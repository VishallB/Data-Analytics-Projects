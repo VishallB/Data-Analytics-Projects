{
 "cells": [
  {
   "cell_type": "markdown",
   "id": "826d1803",
   "metadata": {},
   "source": [
    "# Exploring Hacker News Posts"
   ]
  },
  {
   "cell_type": "markdown",
   "id": "e297f6f5",
   "metadata": {},
   "source": [
    "[Hacker News](https://news.ycombinator.com/) is a site, where user-submitted stories (known as \"posts\") receive votes and comments, similar to Reddit. The site is extremely popular in technology and startup circles, mainly because the posts that make it to the top of the Hacker News listings can get hundreds of thousands of visitors as a result. \n",
    "\n",
    "The dataset can be found on [Kaggle](https://www.kaggle.com/datasets/hacker-news/hacker-news-posts). \n",
    "Below are the descriptions of the columns.\n",
    "\n",
    "| Column | Description |\n",
    "| :------| -----------:|\n",
    "| `id`   | the unique identifier from Hacker News for the post|\n",
    "| `title`| the title of the post |\n",
    "| `url` | the URL the posts links to, if the post has a URL |\n",
    "| `num_points`| the number of points the post acquired, calculated as the total no. of upvotes minus total no. of downvotes|\n",
    "| `num_comments` | the number of comments on the post |\n",
    "| `author` | the username of the person who submitted the post |\n",
    "| `created_at` | the date and time of the post's submission |\n",
    "\n",
    "The posts on Hacker News with titles **Ask HN** or **Show HN** means:\n",
    "- **Ask HN** posts to ask the Hacker News community a specific question.\n",
    "- **Show HN** posts to show the Hacker News community a project, product, or something interesting.\n",
    "\n",
    "We are interested in the above titles, **Ask HN** or **Show HN**. By using these two types of posts, we will analyze\n",
    "1. Do **Ask HN** or **Show HN** recevie more comments on average?\n",
    "2. Do posts created at a certain time receive more comments on average?"
   ]
  },
  {
   "cell_type": "code",
   "execution_count": 29,
   "id": "b37103be",
   "metadata": {},
   "outputs": [
    {
     "name": "stdout",
     "output_type": "stream",
     "text": [
      "[['id', 'title', 'url', 'num_points', 'num_comments', 'author', 'created_at'], ['12579008', 'You have two days to comment if you want stem cells to be classified as your own', 'http://www.regulations.gov/document?D=FDA-2015-D-3719-0018', '1', '0', 'altstar', '9/26/2016 3:26'], ['12579005', 'SQLAR  the SQLite Archiver', 'https://www.sqlite.org/sqlar/doc/trunk/README.md', '1', '0', 'blacksqr', '9/26/2016 3:24'], ['12578997', 'What if we just printed a flatscreen television on the side of our boxes?', 'https://medium.com/vanmoof/our-secrets-out-f21c1f03fdc8#.ietxmez43', '1', '0', 'pavel_lishin', '9/26/2016 3:19']]\n"
     ]
    }
   ],
   "source": [
    "import datetime as dt\n",
    "from csv import reader\n",
    "# Opening the dataset which is in the form of csv\n",
    "\n",
    "opened_file = open('HN_posts_year_to_Sep_26_2016.csv',encoding=\"utf8\")\n",
    "read_file = reader(opened_file)\n",
    "hn = list(read_file)\n",
    "\n",
    "# Displaying the first five rows of hn\n",
    "print(hn[:4])"
   ]
  },
  {
   "cell_type": "code",
   "execution_count": 5,
   "id": "14404d2b",
   "metadata": {},
   "outputs": [],
   "source": [
    "# Extracting the first row of data which is the header\n",
    "headers = hn[0]\n",
    "\n",
    "# Removing the first row of data from hn\n",
    "hn = hn[1:]"
   ]
  },
  {
   "cell_type": "code",
   "execution_count": 8,
   "id": "e78b0f41",
   "metadata": {},
   "outputs": [
    {
     "name": "stdout",
     "output_type": "stream",
     "text": [
      "['id', 'title', 'url', 'num_points', 'num_comments', 'author', 'created_at']\n",
      "\n",
      "\n",
      "[['12579008', 'You have two days to comment if you want stem cells to be classified as your own', 'http://www.regulations.gov/document?D=FDA-2015-D-3719-0018', '1', '0', 'altstar', '9/26/2016 3:26'], ['12579005', 'SQLAR  the SQLite Archiver', 'https://www.sqlite.org/sqlar/doc/trunk/README.md', '1', '0', 'blacksqr', '9/26/2016 3:24'], ['12578997', 'What if we just printed a flatscreen television on the side of our boxes?', 'https://medium.com/vanmoof/our-secrets-out-f21c1f03fdc8#.ietxmez43', '1', '0', 'pavel_lishin', '9/26/2016 3:19'], ['12578989', 'algorithmic music', 'http://cacm.acm.org/magazines/2011/7/109891-algorithmic-composition/fulltext', '1', '0', 'poindontcare', '9/26/2016 3:16']]\n"
     ]
    }
   ],
   "source": [
    "# Displaying headers to check if our header is correct\n",
    "print(headers)\n",
    "\n",
    "print('\\n')\n",
    "\n",
    "# Displaying the first five rows of hn to ensure the header has been removed\n",
    "print(hn[:4])"
   ]
  },
  {
   "cell_type": "markdown",
   "id": "34ed9db8",
   "metadata": {},
   "source": [
    "Like we mentioned above, we are only concerned with the posts title beginning with **Ask HN** or **Show HN**, we will isolate them in a new lists of lists containing the data for those titles."
   ]
  },
  {
   "cell_type": "code",
   "execution_count": 9,
   "id": "3e825fad",
   "metadata": {},
   "outputs": [],
   "source": [
    "ask_posts = [] # ASk HN posts\n",
    "show_posts = [] # Show HN posts\n",
    "other_posts = [] # Other posts\n",
    "\n",
    "for row in hn:\n",
    "    title = row[1]\n",
    "    \n",
    "    if title.lower().startswith('ask hn'):\n",
    "        ask_posts.append(row)\n",
    "    elif title.lower().startswith('show hn'):\n",
    "        show_posts.append(row)\n",
    "    else:\n",
    "        other_posts.append(row)"
   ]
  },
  {
   "cell_type": "code",
   "execution_count": 11,
   "id": "72ce0d92",
   "metadata": {},
   "outputs": [
    {
     "name": "stdout",
     "output_type": "stream",
     "text": [
      "9139\n",
      "10158\n",
      "273822\n"
     ]
    }
   ],
   "source": [
    "# Checking the number of posts in ask, show and other posts\n",
    "print(len(ask_posts))\n",
    "print(len(show_posts))\n",
    "print(len(other_posts))"
   ]
  },
  {
   "cell_type": "markdown",
   "id": "f0bb0d31",
   "metadata": {},
   "source": [
    "Let's have a look at our ask_posts and show_posts by printing a few rows of the lists of list."
   ]
  },
  {
   "cell_type": "code",
   "execution_count": 15,
   "id": "273fe856",
   "metadata": {},
   "outputs": [
    {
     "name": "stdout",
     "output_type": "stream",
     "text": [
      "['id', 'title', 'url', 'num_points', 'num_comments', 'author', 'created_at']\n",
      "\n",
      "\n",
      "[['12578908', 'Ask HN: What TLD do you use for local development?', '', '4', '7', 'Sevrene', '9/26/2016 2:53'], ['12578522', 'Ask HN: How do you pass on your work when you die?', '', '6', '3', 'PascLeRasc', '9/26/2016 1:17'], ['12577908', 'Ask HN: How a DNS problem can be limited to a geographic region?', '', '1', '0', 'kuon', '9/25/2016 22:57'], ['12577870', 'Ask HN: Why join a fund when you can be an angel?', '', '1', '3', 'anthony_james', '9/25/2016 22:48']]\n",
      "\n",
      "\n",
      "[['12578335', 'Show HN: Finding puns computationally', 'http://puns.samueltaylor.org/', '2', '0', 'saamm', '9/26/2016 0:36'], ['12578182', 'Show HN: A simple library for complicated animations', 'https://christinecha.github.io/choreographer-js/', '1', '0', 'christinecha', '9/26/2016 0:01'], ['12578098', 'Show HN: WebGL visualization of DNA sequences', 'http://grondilu.github.io/dna.html', '1', '0', 'grondilu', '9/25/2016 23:44'], ['12577991', 'Show HN: Pomodoro-centric, heirarchical project management with ES6 modules', 'https://github.com/jakebian/zeal', '2', '0', 'dbranes', '9/25/2016 23:17']]\n"
     ]
    }
   ],
   "source": [
    "print(headers)\n",
    "print('\\n')\n",
    "print(ask_posts[:4])\n",
    "print('\\n')\n",
    "print(show_posts[:4])"
   ]
  },
  {
   "cell_type": "markdown",
   "id": "bb681a26",
   "metadata": {},
   "source": [
    "Now by using the above data in ask_posts and show_posts, let's analyse one of our findings which we mentioned in the beginning; Do **Ask HN** or **Show HN** recevie more comments on average? "
   ]
  },
  {
   "cell_type": "code",
   "execution_count": 23,
   "id": "2cf99d3a",
   "metadata": {},
   "outputs": [],
   "source": [
    "# Since we are going to check the number of comments for ask and show posts and check their avearge. \n",
    "# Creating a function so that we can reuse it.\n",
    "\n",
    "def average_of_comments(dataset, index):\n",
    "    '''Loops through the dataset with the mentioned\n",
    "    index, adds up the number of comments, and returns\n",
    "    the average'''\n",
    "    total_comments = 0\n",
    "    for row in dataset:\n",
    "        comment = int(row[index])\n",
    "        total_comments += comment\n",
    "    \n",
    "    average = total_comments / len(dataset)\n",
    "    return average"
   ]
  },
  {
   "cell_type": "code",
   "execution_count": 28,
   "id": "e67e0e7d",
   "metadata": {},
   "outputs": [
    {
     "name": "stdout",
     "output_type": "stream",
     "text": [
      "10.393478498741656\n",
      "\n",
      "\n",
      "4.886099625910612\n"
     ]
    }
   ],
   "source": [
    "# Finding the average of ask_posts comments\n",
    "\n",
    "avg_ask_comments = average_of_comments(ask_posts, 4)\n",
    "print(avg_ask_comments)\n",
    "\n",
    "print('\\n')\n",
    "\n",
    "# Finding average of show_posts_comments\n",
    "avg_show_comments = average_of_comments(show_posts, 4)\n",
    "print(avg_show_comments)"
   ]
  },
  {
   "cell_type": "markdown",
   "id": "60beef01",
   "metadata": {},
   "source": [
    "## Finding to the first question\n",
    "\n",
    "The average for **Ask HN** posts is about 10 and average for **Show HN** posts is roughly about 5. By looking at the above average, we can say that the posts which ask Hacker News community is more likely to receive more comments than posts which show Hacker News community their project or ideas. This maybe due to the fact that, posts which has **Ask HN** is more likely to be a question to the community and users are more likely to comment on that question or a topic to engage in a conversation with users with similar interest."
   ]
  },
  {
   "cell_type": "markdown",
   "id": "221536d3",
   "metadata": {},
   "source": [
    "Now that we have found out our finding for the first question. Next, we will determine if posts created at a certain time receive more comments on average. We will use the following steps:\n",
    "\n",
    "1. Calculate the number of posts created in each hour of the day, along with the number of comments.\n",
    "2. Calculate the average number of comments posts receive by hour created."
   ]
  },
  {
   "cell_type": "code",
   "execution_count": 79,
   "id": "d6bb6442",
   "metadata": {},
   "outputs": [],
   "source": [
    "# Creating a function to calculate the number of posts created per hour, along with total number of comments\n",
    "# Having kewword arguments because the posts created and number of comments will be in the same column index\n",
    "\n",
    "def posts_and_comments(dataset, index=6, comments=4):     \n",
    "    result_list = []\n",
    "    \n",
    "    for row in dataset:\n",
    "        created_at = row[index]\n",
    "        number_of_comment = int(row[comments])\n",
    "        result_list.append([created_at, number_of_comment])\n",
    "    \n",
    "    counts_by_hour = {} # contains number of posts created during each hour\n",
    "    comments_by_hour = {} # Contains the corresponding number of comments for each hour\n",
    "    \n",
    "    for row in result_list:\n",
    "        hour = row[0]\n",
    "        comment = row[1]\n",
    "        parsed_datetime = dt.datetime.strptime(hour, '%m/%d/%Y %H:%M')\n",
    "        parsed_hour = parsed_datetime.strftime('%H')\n",
    "        \n",
    "        if parsed_hour not in counts_by_hour:\n",
    "            counts_by_hour[parsed_hour] = 1\n",
    "            comments_by_hour[parsed_hour] = comment\n",
    "        elif parsed_hour in counts_by_hour:\n",
    "            counts_by_hour[parsed_hour] += 1\n",
    "            comments_by_hour[parsed_hour] += comment\n",
    "    return counts_by_hour, comments_by_hour"
   ]
  },
  {
   "cell_type": "code",
   "execution_count": 80,
   "id": "f020e727",
   "metadata": {},
   "outputs": [],
   "source": [
    "# Creating the number of posts created per hour and total number of comments for ask_posts\n",
    "ask_posts_by_hour, ask_comments_by_hour = posts_and_comments(ask_posts)\n",
    "\n",
    "# Creating the number of posts created per hour and total number of comments for show_posts\n",
    "show_posts_by_hour, show_comments_by_hour = posts_and_comments(show_posts)"
   ]
  },
  {
   "cell_type": "markdown",
   "id": "396c0eac",
   "metadata": {},
   "source": [
    "Now that we have two dictionaries which has the number of posts by hour and number of comments by hour. Let's us calculate the average number of comments for each hour for both **Ask HN** and **Show HN** posts."
   ]
  },
  {
   "cell_type": "code",
   "execution_count": 107,
   "id": "69e519ba",
   "metadata": {},
   "outputs": [],
   "source": [
    "# Creating a function which gives the average for each hour\n",
    "\n",
    "def average(dict_a, dict_b):\n",
    "    average_list = []\n",
    "    \n",
    "    for key in dict_a:\n",
    "        avg = dict_b[key]/dict_a[key]\n",
    "        avg = round(avg)\n",
    "        average_list.append([key, avg])\n",
    "    \n",
    "    return average_list"
   ]
  },
  {
   "cell_type": "code",
   "execution_count": 108,
   "id": "14e4d0e0",
   "metadata": {},
   "outputs": [],
   "source": [
    "# Computing average for both ask and show posts\n",
    "avg_ask_comments = average(ask_posts_by_hour, ask_comments_by_hour)\n",
    "avg_show_comments = average(show_posts_by_hour,  show_comments_by_hour)"
   ]
  },
  {
   "cell_type": "code",
   "execution_count": 113,
   "id": "9e51b9f6",
   "metadata": {},
   "outputs": [
    {
     "name": "stdout",
     "output_type": "stream",
     "text": [
      "[['02', 11], ['01', 7], ['22', 9], ['21', 9], ['19', 7], ['17', 9], ['15', 29], ['14', 10], ['13', 16], ['11', 9], ['10', 11], ['09', 7], ['07', 7], ['03', 8], ['23', 7], ['20', 9], ['16', 8], ['08', 9], ['00', 8], ['18', 8], ['12', 12], ['04', 10], ['06', 7], ['05', 9]]\n",
      "\n",
      "\n",
      "[['00', 5], ['23', 5], ['20', 4], ['19', 5], ['18', 5], ['16', 5], ['14', 6], ['10', 4], ['09', 5], ['08', 6], ['06', 5], ['03', 5], ['21', 4], ['17', 4], ['15', 5], ['11', 6], ['07', 7], ['04', 5], ['13', 5], ['12', 7], ['01', 4], ['22', 4], ['02', 5], ['05', 3]]\n"
     ]
    }
   ],
   "source": [
    "print(avg_ask_comments)\n",
    "print('\\n')\n",
    "print(avg_show_comments)"
   ]
  },
  {
   "cell_type": "markdown",
   "id": "c466d3c2",
   "metadata": {},
   "source": [
    "We can see that the above format is difficult to identify the hours with the highest values. We will sort the list of lists and print the five highest values in a format that's easier to read."
   ]
  },
  {
   "cell_type": "code",
   "execution_count": 114,
   "id": "f8bbde7d",
   "metadata": {},
   "outputs": [],
   "source": [
    "swap_avg_ask_comments_by_hour = []\n",
    "swap_avg_show_comments_by_hour = []\n",
    "\n",
    "for row in avg_ask_comments:\n",
    "    swap_avg_ask_comments_by_hour.append([row[1], row[0]])\n",
    "\n",
    "for row in avg_show_comments:\n",
    "    swap_avg_show_comments_by_hour.append([row[1], row[0]])"
   ]
  },
  {
   "cell_type": "markdown",
   "id": "bfb4a3b5",
   "metadata": {},
   "source": [
    "We have swapped the hour and comments in the list. Lets take a look at the average number of comments in descending order by printing only the top 5 elements of each list."
   ]
  },
  {
   "cell_type": "code",
   "execution_count": 119,
   "id": "66e404a6",
   "metadata": {},
   "outputs": [
    {
     "name": "stdout",
     "output_type": "stream",
     "text": [
      "Top 5 hours for ask posts comments.\n",
      "02:00:00: 11 average comments per post\n",
      "22:00:00: 9 average comments per post\n",
      "21:00:00: 9 average comments per post\n",
      "19:00:00: 7 average comments per post\n",
      "01:00:00: 7 average comments per post\n",
      "----------------------------------------\n",
      "Top 5 hours for show posts comments\n",
      "23:00:00: 5 average comments per post\n",
      "19:00:00: 5 average comments per post\n",
      "18:00:00: 5 average comments per post\n",
      "00:00:00: 5 average comments per post\n",
      "20:00:00: 4 average comments per post\n"
     ]
    }
   ],
   "source": [
    "# Average comments for ask HN posts\n",
    "print('Top 5 hours for ask posts comments.')\n",
    "for row in sorted(swap_avg_ask_comments_by_hour[:5], reverse=True):\n",
    "    hour = row[1]\n",
    "    avg = row[0]\n",
    "    hour_stripped = dt.datetime.strptime(hour, '%H')\n",
    "    hour_stripped = hour_stripped.strftime('%H:%M:%S')\n",
    "    print(f\"{hour_stripped}: {avg} average comments per post\")\n",
    "    \n",
    "print('-'*40)\n",
    "\n",
    "# Average comments for show HN posts\n",
    "print('Top 5 hours for show posts comments')\n",
    "for row in sorted(swap_avg_show_comments_by_hour[:5], reverse=True):\n",
    "    hour = row[1]\n",
    "    avg = row[0]\n",
    "    hour_stripped = dt.datetime.strptime(hour, '%H')\n",
    "    hour_stripped = hour_stripped.strftime('%H:%M:%S')\n",
    "    print(f\"{hour_stripped}: {avg} average comments per post\")"
   ]
  },
  {
   "cell_type": "markdown",
   "id": "9821b980",
   "metadata": {},
   "source": [
    "## Finding for the second question\n",
    "\n",
    "By looking at the output above, we can say that the **Ask HN** posts created during the night receive a significantly higher number of comments. (Lot of night owls on the website, huh?) \n",
    "\n",
    "Where as for show posts comments, the average is similar from 6 pm to 11 pm."
   ]
  },
  {
   "cell_type": "markdown",
   "id": "b612e425",
   "metadata": {},
   "source": [
    "# Conclusion\n",
    "\n",
    "1. The average for Ask HN posts is about 10 and average for Show HN posts is roughly about 5. By looking at the above average, we can say that the posts which ask Hacker News community is more likely to receive more comments than posts which show Hacker News community their project or ideas. This maybe due to the fact that, posts which has Ask HN is more likely to be a question to the community and users are more likely to comment on that question or a topic to engage in a conversation with users with similar interest.\n",
    "\n",
    "2. The posts for Ask HN during the night receive a significant higher number of comments. Where as for the Show HN comments, we can say that from the time period of 6 pm to 11 pm, the number of comments received is pretty much the same."
   ]
  }
 ],
 "metadata": {
  "kernelspec": {
   "display_name": "Python 3 (ipykernel)",
   "language": "python",
   "name": "python3"
  },
  "language_info": {
   "codemirror_mode": {
    "name": "ipython",
    "version": 3
   },
   "file_extension": ".py",
   "mimetype": "text/x-python",
   "name": "python",
   "nbconvert_exporter": "python",
   "pygments_lexer": "ipython3",
   "version": "3.9.7"
  }
 },
 "nbformat": 4,
 "nbformat_minor": 5
}
